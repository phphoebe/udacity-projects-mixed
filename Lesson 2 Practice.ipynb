{
 "cells": [
  {
   "cell_type": "code",
   "execution_count": null,
   "metadata": {},
   "outputs": [],
   "source": [
    "# Python 2.1 - Data Review"
   ]
  },
  {
   "cell_type": "code",
   "execution_count": 2,
   "metadata": {},
   "outputs": [],
   "source": [
    "import pandas as pd         # Shift+Enter to run the code; Shift+Control+p 查询快捷键"
   ]
  },
  {
   "cell_type": "code",
   "execution_count": 3,
   "metadata": {},
   "outputs": [],
   "source": [
    "df = pd.read_csv('./chapter2_sampledata.csv')     #读取CSV文档，引入DataFrame"
   ]
  },
  {
   "cell_type": "code",
   "execution_count": 3,
   "metadata": {},
   "outputs": [
    {
     "data": {
      "text/html": [
       "<div>\n",
       "<style scoped>\n",
       "    .dataframe tbody tr th:only-of-type {\n",
       "        vertical-align: middle;\n",
       "    }\n",
       "\n",
       "    .dataframe tbody tr th {\n",
       "        vertical-align: top;\n",
       "    }\n",
       "\n",
       "    .dataframe thead th {\n",
       "        text-align: right;\n",
       "    }\n",
       "</style>\n",
       "<table border=\"1\" class=\"dataframe\">\n",
       "  <thead>\n",
       "    <tr style=\"text-align: right;\">\n",
       "      <th></th>\n",
       "      <th>ÈÀDate</th>\n",
       "      <th>AdvertiserID</th>\n",
       "      <th>AdvertiserName</th>\n",
       "      <th>CampaignID</th>\n",
       "      <th>CampaignName</th>\n",
       "      <th>SiteID</th>\n",
       "      <th>SiteName</th>\n",
       "      <th>PlacementID</th>\n",
       "      <th>PlacementName</th>\n",
       "      <th>PlacementType</th>\n",
       "      <th>AdID</th>\n",
       "      <th>AdName</th>\n",
       "      <th>AdFormat</th>\n",
       "      <th>ServedImpressions</th>\n",
       "      <th>Clicks</th>\n",
       "      <th>VideoStarted</th>\n",
       "      <th>VideoFullyPlayed</th>\n",
       "      <th>TotalMediaCost</th>\n",
       "      <th>weekstartdate</th>\n",
       "    </tr>\n",
       "  </thead>\n",
       "  <tbody>\n",
       "    <tr>\n",
       "      <th>0</th>\n",
       "      <td>5.27.2018</td>\n",
       "      <td>439393</td>\n",
       "      <td>JackÛªs Barrel</td>\n",
       "      <td>877391</td>\n",
       "      <td>2018_THL_Jacks Barrel</td>\n",
       "      <td>130157</td>\n",
       "      <td>Oath US</td>\n",
       "      <td>24604034</td>\n",
       "      <td>THL_JB_0_BRIGHTROLL_CONTX_DES_A21-49_UCB_H5_Fl...</td>\n",
       "      <td>In-Banner</td>\n",
       "      <td>52002980</td>\n",
       "      <td>2018_DB_SimplePleasures-300x250</td>\n",
       "      <td>Standard Banner</td>\n",
       "      <td>312</td>\n",
       "      <td>1</td>\n",
       "      <td>0</td>\n",
       "      <td>0</td>\n",
       "      <td>0.00</td>\n",
       "      <td>5/21/18</td>\n",
       "    </tr>\n",
       "    <tr>\n",
       "      <th>1</th>\n",
       "      <td>5/27/18</td>\n",
       "      <td>439393</td>\n",
       "      <td>JackÛªs Barrel</td>\n",
       "      <td>877391</td>\n",
       "      <td>2018_THL_Jacks Barrel</td>\n",
       "      <td>130157</td>\n",
       "      <td>Oath US</td>\n",
       "      <td>24604036</td>\n",
       "      <td>THL_JB_0_BRIGHTROLL_CONTX_DES_A21-49_UCB_H5_Fl...</td>\n",
       "      <td>In-Banner</td>\n",
       "      <td>52004247</td>\n",
       "      <td>2018_DB_SimplePleasures-728x90</td>\n",
       "      <td>Standard Banner</td>\n",
       "      <td>73</td>\n",
       "      <td>0</td>\n",
       "      <td>0</td>\n",
       "      <td>0</td>\n",
       "      <td>0.00</td>\n",
       "      <td>5/21/18</td>\n",
       "    </tr>\n",
       "    <tr>\n",
       "      <th>2</th>\n",
       "      <td>5/27/18</td>\n",
       "      <td>439393</td>\n",
       "      <td>JackÛªs Barrel</td>\n",
       "      <td>877391</td>\n",
       "      <td>2018_THL_Jacks Barrel</td>\n",
       "      <td>130157</td>\n",
       "      <td>Oath US</td>\n",
       "      <td>24604037</td>\n",
       "      <td>THL_JB_0_BRIGHTROLL_CONTX_DES_A21-49_UCB_H5_Fl...</td>\n",
       "      <td>In-Banner</td>\n",
       "      <td>52003023</td>\n",
       "      <td>2018_DB_SimplePleasures-300x600</td>\n",
       "      <td>Standard Banner</td>\n",
       "      <td>95</td>\n",
       "      <td>0</td>\n",
       "      <td>0</td>\n",
       "      <td>0</td>\n",
       "      <td>0.00</td>\n",
       "      <td>5/21/18</td>\n",
       "    </tr>\n",
       "    <tr>\n",
       "      <th>3</th>\n",
       "      <td>5/27/18</td>\n",
       "      <td>439393</td>\n",
       "      <td>JackÛªs Barrel</td>\n",
       "      <td>877391</td>\n",
       "      <td>2018_THL_Jacks Barrel</td>\n",
       "      <td>130157</td>\n",
       "      <td>Oath US</td>\n",
       "      <td>24604038</td>\n",
       "      <td>THL_JB_0_BRIGHTROLL_CONTX_APP_A21-49_UCB_H5_Fl...</td>\n",
       "      <td>In-Banner</td>\n",
       "      <td>52001141</td>\n",
       "      <td>2018_DB_SimplePleasures_Mobile_300x50</td>\n",
       "      <td>Standard Banner</td>\n",
       "      <td>19</td>\n",
       "      <td>0</td>\n",
       "      <td>0</td>\n",
       "      <td>0</td>\n",
       "      <td>0.00</td>\n",
       "      <td>5/21/18</td>\n",
       "    </tr>\n",
       "    <tr>\n",
       "      <th>4</th>\n",
       "      <td>5/27/18</td>\n",
       "      <td>439393</td>\n",
       "      <td>JackÛªs Barrel</td>\n",
       "      <td>877391</td>\n",
       "      <td>2018_THL_Jacks Barrel</td>\n",
       "      <td>130157</td>\n",
       "      <td>Oath US</td>\n",
       "      <td>24604041</td>\n",
       "      <td>THL_JB_0_BRIGHTROLL_CONTX_MOB_A21-49_UCB_H5_Fl...</td>\n",
       "      <td>In-Banner</td>\n",
       "      <td>52001164</td>\n",
       "      <td>2018_DB_SimplePleasures_Mobile_300x50</td>\n",
       "      <td>Standard Banner</td>\n",
       "      <td>20</td>\n",
       "      <td>0</td>\n",
       "      <td>0</td>\n",
       "      <td>0</td>\n",
       "      <td>0.00</td>\n",
       "      <td>5/21/18</td>\n",
       "    </tr>\n",
       "    <tr>\n",
       "      <th>...</th>\n",
       "      <td>...</td>\n",
       "      <td>...</td>\n",
       "      <td>...</td>\n",
       "      <td>...</td>\n",
       "      <td>...</td>\n",
       "      <td>...</td>\n",
       "      <td>...</td>\n",
       "      <td>...</td>\n",
       "      <td>...</td>\n",
       "      <td>...</td>\n",
       "      <td>...</td>\n",
       "      <td>...</td>\n",
       "      <td>...</td>\n",
       "      <td>...</td>\n",
       "      <td>...</td>\n",
       "      <td>...</td>\n",
       "      <td>...</td>\n",
       "      <td>...</td>\n",
       "      <td>...</td>\n",
       "    </tr>\n",
       "    <tr>\n",
       "      <th>30702</th>\n",
       "      <td>4/1/18</td>\n",
       "      <td>329394</td>\n",
       "      <td>Chelsea Blue</td>\n",
       "      <td>853276</td>\n",
       "      <td>2018_THL_Chelsea_BALAD</td>\n",
       "      <td>32885</td>\n",
       "      <td>PopSugar</td>\n",
       "      <td>23653985</td>\n",
       "      <td>THL_CB_0_POP SUGAR_CONTX_MOB_A21-49_UCB_H5_CPM...</td>\n",
       "      <td>In-Banner</td>\n",
       "      <td>50275241</td>\n",
       "      <td>2018_Chelsea_ChaliceBanner_BALAD_320x50</td>\n",
       "      <td>HTML5 Standard Banner</td>\n",
       "      <td>4023</td>\n",
       "      <td>3</td>\n",
       "      <td>0</td>\n",
       "      <td>0</td>\n",
       "      <td>28.20</td>\n",
       "      <td>3/26/18</td>\n",
       "    </tr>\n",
       "    <tr>\n",
       "      <th>30703</th>\n",
       "      <td>4/1/18</td>\n",
       "      <td>329394</td>\n",
       "      <td>Chelsea Blue</td>\n",
       "      <td>853276</td>\n",
       "      <td>2018_THL_Chelsea_BALAD</td>\n",
       "      <td>32885</td>\n",
       "      <td>PopSugar</td>\n",
       "      <td>23653985</td>\n",
       "      <td>THL_CB_0_POP SUGAR_CONTX_MOB_A21-49_UCB_H5_CPM...</td>\n",
       "      <td>In-Banner</td>\n",
       "      <td>50528465</td>\n",
       "      <td>2018_Chelsea_12PackBanner_BALAD_320x50</td>\n",
       "      <td>HTML5 Standard Banner</td>\n",
       "      <td>3979</td>\n",
       "      <td>2</td>\n",
       "      <td>0</td>\n",
       "      <td>0</td>\n",
       "      <td>27.89</td>\n",
       "      <td>3/26/18</td>\n",
       "    </tr>\n",
       "    <tr>\n",
       "      <th>30704</th>\n",
       "      <td>4/1/18</td>\n",
       "      <td>329394</td>\n",
       "      <td>Chelsea Blue</td>\n",
       "      <td>853276</td>\n",
       "      <td>2018_THL_Chelsea_BALAD</td>\n",
       "      <td>79621</td>\n",
       "      <td>Gilt</td>\n",
       "      <td>23654033</td>\n",
       "      <td>THL_CB_0_GILT CITY_CONTX_CSD_A21-49_UCB_H5_CPM...</td>\n",
       "      <td>Tracking Only</td>\n",
       "      <td>50227618</td>\n",
       "      <td>Tracking Pixel</td>\n",
       "      <td>Tracking Pixel</td>\n",
       "      <td>0</td>\n",
       "      <td>1318</td>\n",
       "      <td>0</td>\n",
       "      <td>0</td>\n",
       "      <td>0.00</td>\n",
       "      <td>3/26/18</td>\n",
       "    </tr>\n",
       "    <tr>\n",
       "      <th>30705</th>\n",
       "      <td>4/1/18</td>\n",
       "      <td>329394</td>\n",
       "      <td>Chelsea Blue</td>\n",
       "      <td>853276</td>\n",
       "      <td>2018_THL_Chelsea_BALAD</td>\n",
       "      <td>79621</td>\n",
       "      <td>Gilt</td>\n",
       "      <td>23654034</td>\n",
       "      <td>THL_CB_0_GILT CITY_CONTX_CSD_A21-49_UCB_H5_CPM...</td>\n",
       "      <td>Tracking Only</td>\n",
       "      <td>50227619</td>\n",
       "      <td>Tracking Pixel</td>\n",
       "      <td>Tracking Pixel</td>\n",
       "      <td>0</td>\n",
       "      <td>2</td>\n",
       "      <td>0</td>\n",
       "      <td>0</td>\n",
       "      <td>0.00</td>\n",
       "      <td>3/26/18</td>\n",
       "    </tr>\n",
       "    <tr>\n",
       "      <th>30706</th>\n",
       "      <td>4/1/18</td>\n",
       "      <td>329394</td>\n",
       "      <td>Chelsea Blue</td>\n",
       "      <td>853276</td>\n",
       "      <td>2018_THL_Chelsea_BALAD</td>\n",
       "      <td>95580</td>\n",
       "      <td>Hulu.com</td>\n",
       "      <td>23654125</td>\n",
       "      <td>THL_CB_0_HULU.COM_PROLL_DES_A21+_National_VID_...</td>\n",
       "      <td>Tracking Only</td>\n",
       "      <td>50227632</td>\n",
       "      <td>Tracking Pixel</td>\n",
       "      <td>Tracking Pixel</td>\n",
       "      <td>2325</td>\n",
       "      <td>2</td>\n",
       "      <td>0</td>\n",
       "      <td>0</td>\n",
       "      <td>50.85</td>\n",
       "      <td>3/26/18</td>\n",
       "    </tr>\n",
       "  </tbody>\n",
       "</table>\n",
       "<p>30707 rows × 19 columns</p>\n",
       "</div>"
      ],
      "text/plain": [
       "         ÈÀDate  AdvertiserID   AdvertiserName  CampaignID  \\\n",
       "0      5.27.2018        439393  JackÛªs Barrel      877391   \n",
       "1        5/27/18        439393  JackÛªs Barrel      877391   \n",
       "2        5/27/18        439393  JackÛªs Barrel      877391   \n",
       "3        5/27/18        439393  JackÛªs Barrel      877391   \n",
       "4        5/27/18        439393  JackÛªs Barrel      877391   \n",
       "...          ...           ...              ...         ...   \n",
       "30702     4/1/18        329394     Chelsea Blue      853276   \n",
       "30703     4/1/18        329394     Chelsea Blue      853276   \n",
       "30704     4/1/18        329394     Chelsea Blue      853276   \n",
       "30705     4/1/18        329394     Chelsea Blue      853276   \n",
       "30706     4/1/18        329394     Chelsea Blue      853276   \n",
       "\n",
       "                 CampaignName  SiteID  SiteName  PlacementID  \\\n",
       "0       2018_THL_Jacks Barrel  130157   Oath US     24604034   \n",
       "1       2018_THL_Jacks Barrel  130157   Oath US     24604036   \n",
       "2       2018_THL_Jacks Barrel  130157   Oath US     24604037   \n",
       "3       2018_THL_Jacks Barrel  130157   Oath US     24604038   \n",
       "4       2018_THL_Jacks Barrel  130157   Oath US     24604041   \n",
       "...                       ...     ...       ...          ...   \n",
       "30702  2018_THL_Chelsea_BALAD   32885  PopSugar     23653985   \n",
       "30703  2018_THL_Chelsea_BALAD   32885  PopSugar     23653985   \n",
       "30704  2018_THL_Chelsea_BALAD   79621      Gilt     23654033   \n",
       "30705  2018_THL_Chelsea_BALAD   79621      Gilt     23654034   \n",
       "30706  2018_THL_Chelsea_BALAD   95580  Hulu.com     23654125   \n",
       "\n",
       "                                           PlacementName  PlacementType  \\\n",
       "0      THL_JB_0_BRIGHTROLL_CONTX_DES_A21-49_UCB_H5_Fl...      In-Banner   \n",
       "1      THL_JB_0_BRIGHTROLL_CONTX_DES_A21-49_UCB_H5_Fl...      In-Banner   \n",
       "2      THL_JB_0_BRIGHTROLL_CONTX_DES_A21-49_UCB_H5_Fl...      In-Banner   \n",
       "3      THL_JB_0_BRIGHTROLL_CONTX_APP_A21-49_UCB_H5_Fl...      In-Banner   \n",
       "4      THL_JB_0_BRIGHTROLL_CONTX_MOB_A21-49_UCB_H5_Fl...      In-Banner   \n",
       "...                                                  ...            ...   \n",
       "30702  THL_CB_0_POP SUGAR_CONTX_MOB_A21-49_UCB_H5_CPM...      In-Banner   \n",
       "30703  THL_CB_0_POP SUGAR_CONTX_MOB_A21-49_UCB_H5_CPM...      In-Banner   \n",
       "30704  THL_CB_0_GILT CITY_CONTX_CSD_A21-49_UCB_H5_CPM...  Tracking Only   \n",
       "30705  THL_CB_0_GILT CITY_CONTX_CSD_A21-49_UCB_H5_CPM...  Tracking Only   \n",
       "30706  THL_CB_0_HULU.COM_PROLL_DES_A21+_National_VID_...  Tracking Only   \n",
       "\n",
       "           AdID                                   AdName  \\\n",
       "0      52002980          2018_DB_SimplePleasures-300x250   \n",
       "1      52004247           2018_DB_SimplePleasures-728x90   \n",
       "2      52003023          2018_DB_SimplePleasures-300x600   \n",
       "3      52001141    2018_DB_SimplePleasures_Mobile_300x50   \n",
       "4      52001164    2018_DB_SimplePleasures_Mobile_300x50   \n",
       "...         ...                                      ...   \n",
       "30702  50275241  2018_Chelsea_ChaliceBanner_BALAD_320x50   \n",
       "30703  50528465   2018_Chelsea_12PackBanner_BALAD_320x50   \n",
       "30704  50227618                           Tracking Pixel   \n",
       "30705  50227619                           Tracking Pixel   \n",
       "30706  50227632                           Tracking Pixel   \n",
       "\n",
       "                    AdFormat  ServedImpressions  Clicks  VideoStarted  \\\n",
       "0            Standard Banner                312       1             0   \n",
       "1            Standard Banner                 73       0             0   \n",
       "2            Standard Banner                 95       0             0   \n",
       "3            Standard Banner                 19       0             0   \n",
       "4            Standard Banner                 20       0             0   \n",
       "...                      ...                ...     ...           ...   \n",
       "30702  HTML5 Standard Banner               4023       3             0   \n",
       "30703  HTML5 Standard Banner               3979       2             0   \n",
       "30704         Tracking Pixel                  0    1318             0   \n",
       "30705         Tracking Pixel                  0       2             0   \n",
       "30706         Tracking Pixel               2325       2             0   \n",
       "\n",
       "       VideoFullyPlayed  TotalMediaCost weekstartdate  \n",
       "0                     0            0.00       5/21/18  \n",
       "1                     0            0.00       5/21/18  \n",
       "2                     0            0.00       5/21/18  \n",
       "3                     0            0.00       5/21/18  \n",
       "4                     0            0.00       5/21/18  \n",
       "...                 ...             ...           ...  \n",
       "30702                 0           28.20       3/26/18  \n",
       "30703                 0           27.89       3/26/18  \n",
       "30704                 0            0.00       3/26/18  \n",
       "30705                 0            0.00       3/26/18  \n",
       "30706                 0           50.85       3/26/18  \n",
       "\n",
       "[30707 rows x 19 columns]"
      ]
     },
     "execution_count": 3,
     "metadata": {},
     "output_type": "execute_result"
    }
   ],
   "source": [
    "df                                                # display the table 读取并显示表格"
   ]
  },
  {
   "cell_type": "code",
   "execution_count": 4,
   "metadata": {},
   "outputs": [
    {
     "data": {
      "text/plain": [
       "(30707, 19)"
      ]
     },
     "execution_count": 4,
     "metadata": {},
     "output_type": "execute_result"
    }
   ],
   "source": [
    "df.shape        # check how many rows and columns - check DataFrame Attribute"
   ]
  },
  {
   "cell_type": "code",
   "execution_count": 5,
   "metadata": {},
   "outputs": [
    {
     "data": {
      "text/plain": [
       "Index(['ÈÀDate', 'AdvertiserID', 'AdvertiserName', 'CampaignID',\n",
       "       'CampaignName', 'SiteID', 'SiteName', 'PlacementID', 'PlacementName',\n",
       "       'PlacementType', 'AdID', 'AdName', 'AdFormat', 'ServedImpressions',\n",
       "       'Clicks', 'VideoStarted', 'VideoFullyPlayed', 'TotalMediaCost',\n",
       "       'weekstartdate'],\n",
       "      dtype='object')"
      ]
     },
     "execution_count": 5,
     "metadata": {},
     "output_type": "execute_result"
    }
   ],
   "source": [
    "df.columns      # check column details (this is Marketing daily data) - check DataFram Attribute"
   ]
  },
  {
   "cell_type": "code",
   "execution_count": 6,
   "metadata": {},
   "outputs": [
    {
     "data": {
      "text/html": [
       "<div>\n",
       "<style scoped>\n",
       "    .dataframe tbody tr th:only-of-type {\n",
       "        vertical-align: middle;\n",
       "    }\n",
       "\n",
       "    .dataframe tbody tr th {\n",
       "        vertical-align: top;\n",
       "    }\n",
       "\n",
       "    .dataframe thead th {\n",
       "        text-align: right;\n",
       "    }\n",
       "</style>\n",
       "<table border=\"1\" class=\"dataframe\">\n",
       "  <thead>\n",
       "    <tr style=\"text-align: right;\">\n",
       "      <th></th>\n",
       "      <th>ÈÀDate</th>\n",
       "      <th>AdvertiserID</th>\n",
       "      <th>AdvertiserName</th>\n",
       "      <th>CampaignID</th>\n",
       "      <th>CampaignName</th>\n",
       "      <th>SiteID</th>\n",
       "      <th>SiteName</th>\n",
       "      <th>PlacementID</th>\n",
       "      <th>PlacementName</th>\n",
       "      <th>PlacementType</th>\n",
       "      <th>AdID</th>\n",
       "      <th>AdName</th>\n",
       "      <th>AdFormat</th>\n",
       "      <th>ServedImpressions</th>\n",
       "      <th>Clicks</th>\n",
       "      <th>VideoStarted</th>\n",
       "      <th>VideoFullyPlayed</th>\n",
       "      <th>TotalMediaCost</th>\n",
       "      <th>weekstartdate</th>\n",
       "    </tr>\n",
       "  </thead>\n",
       "  <tbody>\n",
       "    <tr>\n",
       "      <th>0</th>\n",
       "      <td>5.27.2018</td>\n",
       "      <td>439393</td>\n",
       "      <td>JackÛªs Barrel</td>\n",
       "      <td>877391</td>\n",
       "      <td>2018_THL_Jacks Barrel</td>\n",
       "      <td>130157</td>\n",
       "      <td>Oath US</td>\n",
       "      <td>24604034</td>\n",
       "      <td>THL_JB_0_BRIGHTROLL_CONTX_DES_A21-49_UCB_H5_Fl...</td>\n",
       "      <td>In-Banner</td>\n",
       "      <td>52002980</td>\n",
       "      <td>2018_DB_SimplePleasures-300x250</td>\n",
       "      <td>Standard Banner</td>\n",
       "      <td>312</td>\n",
       "      <td>1</td>\n",
       "      <td>0</td>\n",
       "      <td>0</td>\n",
       "      <td>0.0</td>\n",
       "      <td>5/21/18</td>\n",
       "    </tr>\n",
       "    <tr>\n",
       "      <th>1</th>\n",
       "      <td>5/27/18</td>\n",
       "      <td>439393</td>\n",
       "      <td>JackÛªs Barrel</td>\n",
       "      <td>877391</td>\n",
       "      <td>2018_THL_Jacks Barrel</td>\n",
       "      <td>130157</td>\n",
       "      <td>Oath US</td>\n",
       "      <td>24604036</td>\n",
       "      <td>THL_JB_0_BRIGHTROLL_CONTX_DES_A21-49_UCB_H5_Fl...</td>\n",
       "      <td>In-Banner</td>\n",
       "      <td>52004247</td>\n",
       "      <td>2018_DB_SimplePleasures-728x90</td>\n",
       "      <td>Standard Banner</td>\n",
       "      <td>73</td>\n",
       "      <td>0</td>\n",
       "      <td>0</td>\n",
       "      <td>0</td>\n",
       "      <td>0.0</td>\n",
       "      <td>5/21/18</td>\n",
       "    </tr>\n",
       "    <tr>\n",
       "      <th>2</th>\n",
       "      <td>5/27/18</td>\n",
       "      <td>439393</td>\n",
       "      <td>JackÛªs Barrel</td>\n",
       "      <td>877391</td>\n",
       "      <td>2018_THL_Jacks Barrel</td>\n",
       "      <td>130157</td>\n",
       "      <td>Oath US</td>\n",
       "      <td>24604037</td>\n",
       "      <td>THL_JB_0_BRIGHTROLL_CONTX_DES_A21-49_UCB_H5_Fl...</td>\n",
       "      <td>In-Banner</td>\n",
       "      <td>52003023</td>\n",
       "      <td>2018_DB_SimplePleasures-300x600</td>\n",
       "      <td>Standard Banner</td>\n",
       "      <td>95</td>\n",
       "      <td>0</td>\n",
       "      <td>0</td>\n",
       "      <td>0</td>\n",
       "      <td>0.0</td>\n",
       "      <td>5/21/18</td>\n",
       "    </tr>\n",
       "  </tbody>\n",
       "</table>\n",
       "</div>"
      ],
      "text/plain": [
       "     ÈÀDate  AdvertiserID   AdvertiserName  CampaignID  \\\n",
       "0  5.27.2018        439393  JackÛªs Barrel      877391   \n",
       "1    5/27/18        439393  JackÛªs Barrel      877391   \n",
       "2    5/27/18        439393  JackÛªs Barrel      877391   \n",
       "\n",
       "            CampaignName  SiteID SiteName  PlacementID  \\\n",
       "0  2018_THL_Jacks Barrel  130157  Oath US     24604034   \n",
       "1  2018_THL_Jacks Barrel  130157  Oath US     24604036   \n",
       "2  2018_THL_Jacks Barrel  130157  Oath US     24604037   \n",
       "\n",
       "                                       PlacementName PlacementType      AdID  \\\n",
       "0  THL_JB_0_BRIGHTROLL_CONTX_DES_A21-49_UCB_H5_Fl...     In-Banner  52002980   \n",
       "1  THL_JB_0_BRIGHTROLL_CONTX_DES_A21-49_UCB_H5_Fl...     In-Banner  52004247   \n",
       "2  THL_JB_0_BRIGHTROLL_CONTX_DES_A21-49_UCB_H5_Fl...     In-Banner  52003023   \n",
       "\n",
       "                            AdName         AdFormat  ServedImpressions  \\\n",
       "0  2018_DB_SimplePleasures-300x250  Standard Banner                312   \n",
       "1   2018_DB_SimplePleasures-728x90  Standard Banner                 73   \n",
       "2  2018_DB_SimplePleasures-300x600  Standard Banner                 95   \n",
       "\n",
       "   Clicks  VideoStarted  VideoFullyPlayed  TotalMediaCost weekstartdate  \n",
       "0       1             0                 0             0.0       5/21/18  \n",
       "1       0             0                 0             0.0       5/21/18  \n",
       "2       0             0                 0             0.0       5/21/18  "
      ]
     },
     "execution_count": 6,
     "metadata": {},
     "output_type": "execute_result"
    }
   ],
   "source": [
    "df.head(3)      # Head Function (3 = Display the first 3 rows) 函数"
   ]
  },
  {
   "cell_type": "code",
   "execution_count": 7,
   "metadata": {},
   "outputs": [
    {
     "data": {
      "text/plain": [
       "0        JackÛªs Barrel\n",
       "1        JackÛªs Barrel\n",
       "2        JackÛªs Barrel\n",
       "3        JackÛªs Barrel\n",
       "4        JackÛªs Barrel\n",
       "              ...       \n",
       "30702       Chelsea Blue\n",
       "30703       Chelsea Blue\n",
       "30704       Chelsea Blue\n",
       "30705       Chelsea Blue\n",
       "30706       Chelsea Blue\n",
       "Name: AdvertiserName, Length: 30707, dtype: object"
      ]
     },
     "execution_count": 7,
     "metadata": {},
     "output_type": "execute_result"
    }
   ],
   "source": [
    "df['AdvertiserName']             # Index DataFrame Column 对DF的索引"
   ]
  },
  {
   "cell_type": "code",
   "execution_count": 8,
   "metadata": {},
   "outputs": [
    {
     "data": {
      "text/html": [
       "<div>\n",
       "<style scoped>\n",
       "    .dataframe tbody tr th:only-of-type {\n",
       "        vertical-align: middle;\n",
       "    }\n",
       "\n",
       "    .dataframe tbody tr th {\n",
       "        vertical-align: top;\n",
       "    }\n",
       "\n",
       "    .dataframe thead th {\n",
       "        text-align: right;\n",
       "    }\n",
       "</style>\n",
       "<table border=\"1\" class=\"dataframe\">\n",
       "  <thead>\n",
       "    <tr style=\"text-align: right;\">\n",
       "      <th></th>\n",
       "      <th>AdvertiserName</th>\n",
       "      <th>SiteName</th>\n",
       "    </tr>\n",
       "  </thead>\n",
       "  <tbody>\n",
       "    <tr>\n",
       "      <th>0</th>\n",
       "      <td>JackÛªs Barrel</td>\n",
       "      <td>Oath US</td>\n",
       "    </tr>\n",
       "    <tr>\n",
       "      <th>1</th>\n",
       "      <td>JackÛªs Barrel</td>\n",
       "      <td>Oath US</td>\n",
       "    </tr>\n",
       "    <tr>\n",
       "      <th>2</th>\n",
       "      <td>JackÛªs Barrel</td>\n",
       "      <td>Oath US</td>\n",
       "    </tr>\n",
       "    <tr>\n",
       "      <th>3</th>\n",
       "      <td>JackÛªs Barrel</td>\n",
       "      <td>Oath US</td>\n",
       "    </tr>\n",
       "    <tr>\n",
       "      <th>4</th>\n",
       "      <td>JackÛªs Barrel</td>\n",
       "      <td>Oath US</td>\n",
       "    </tr>\n",
       "    <tr>\n",
       "      <th>...</th>\n",
       "      <td>...</td>\n",
       "      <td>...</td>\n",
       "    </tr>\n",
       "    <tr>\n",
       "      <th>30702</th>\n",
       "      <td>Chelsea Blue</td>\n",
       "      <td>PopSugar</td>\n",
       "    </tr>\n",
       "    <tr>\n",
       "      <th>30703</th>\n",
       "      <td>Chelsea Blue</td>\n",
       "      <td>PopSugar</td>\n",
       "    </tr>\n",
       "    <tr>\n",
       "      <th>30704</th>\n",
       "      <td>Chelsea Blue</td>\n",
       "      <td>Gilt</td>\n",
       "    </tr>\n",
       "    <tr>\n",
       "      <th>30705</th>\n",
       "      <td>Chelsea Blue</td>\n",
       "      <td>Gilt</td>\n",
       "    </tr>\n",
       "    <tr>\n",
       "      <th>30706</th>\n",
       "      <td>Chelsea Blue</td>\n",
       "      <td>Hulu.com</td>\n",
       "    </tr>\n",
       "  </tbody>\n",
       "</table>\n",
       "<p>30707 rows × 2 columns</p>\n",
       "</div>"
      ],
      "text/plain": [
       "        AdvertiserName  SiteName\n",
       "0      JackÛªs Barrel   Oath US\n",
       "1      JackÛªs Barrel   Oath US\n",
       "2      JackÛªs Barrel   Oath US\n",
       "3      JackÛªs Barrel   Oath US\n",
       "4      JackÛªs Barrel   Oath US\n",
       "...                ...       ...\n",
       "30702     Chelsea Blue  PopSugar\n",
       "30703     Chelsea Blue  PopSugar\n",
       "30704     Chelsea Blue      Gilt\n",
       "30705     Chelsea Blue      Gilt\n",
       "30706     Chelsea Blue  Hulu.com\n",
       "\n",
       "[30707 rows x 2 columns]"
      ]
     },
     "execution_count": 8,
     "metadata": {},
     "output_type": "execute_result"
    }
   ],
   "source": [
    "df[['AdvertiserName','SiteName']]   #Index 2 columns at the same time (the 2 columns becomes 1 List - 2 sets of Brackets)\n",
    "# 两个column变成了一个List，第一层中括号是一个List"
   ]
  },
  {
   "cell_type": "code",
   "execution_count": null,
   "metadata": {},
   "outputs": [],
   "source": [
    "# 2nd Function: Check how many unique values"
   ]
  },
  {
   "cell_type": "code",
   "execution_count": 9,
   "metadata": {},
   "outputs": [
    {
     "data": {
      "text/plain": [
       "array(['Jack\\x89Ûªs Barrel', 'Bubbles', 'Chelsea Blue', 'AnneMac',\n",
       "       'Brand R'], dtype=object)"
      ]
     },
     "execution_count": 9,
     "metadata": {},
     "output_type": "execute_result"
    }
   ],
   "source": [
    "df['AdvertiserName'].unique()"
   ]
  },
  {
   "cell_type": "code",
   "execution_count": null,
   "metadata": {},
   "outputs": [],
   "source": [
    "# Check how many rows for each unique value"
   ]
  },
  {
   "cell_type": "code",
   "execution_count": 10,
   "metadata": {},
   "outputs": [
    {
     "data": {
      "text/plain": [
       "Brand R            10053\n",
       "JackÛªs Barrel     9883\n",
       "Chelsea Blue        5400\n",
       "AnneMac             4443\n",
       "Bubbles              928\n",
       "Name: AdvertiserName, dtype: int64"
      ]
     },
     "execution_count": 10,
     "metadata": {},
     "output_type": "execute_result"
    }
   ],
   "source": [
    "df['AdvertiserName'].value_counts()  #每一个unique value有多少行 - 得出每一个unique value及其行数"
   ]
  },
  {
   "cell_type": "code",
   "execution_count": null,
   "metadata": {},
   "outputs": [],
   "source": [
    "# Check missing value / empty cell"
   ]
  },
  {
   "cell_type": "code",
   "execution_count": 11,
   "metadata": {},
   "outputs": [
    {
     "data": {
      "text/html": [
       "<div>\n",
       "<style scoped>\n",
       "    .dataframe tbody tr th:only-of-type {\n",
       "        vertical-align: middle;\n",
       "    }\n",
       "\n",
       "    .dataframe tbody tr th {\n",
       "        vertical-align: top;\n",
       "    }\n",
       "\n",
       "    .dataframe thead th {\n",
       "        text-align: right;\n",
       "    }\n",
       "</style>\n",
       "<table border=\"1\" class=\"dataframe\">\n",
       "  <thead>\n",
       "    <tr style=\"text-align: right;\">\n",
       "      <th></th>\n",
       "      <th>ÈÀDate</th>\n",
       "      <th>AdvertiserID</th>\n",
       "      <th>AdvertiserName</th>\n",
       "      <th>CampaignID</th>\n",
       "      <th>CampaignName</th>\n",
       "      <th>SiteID</th>\n",
       "      <th>SiteName</th>\n",
       "      <th>PlacementID</th>\n",
       "      <th>PlacementName</th>\n",
       "      <th>PlacementType</th>\n",
       "      <th>AdID</th>\n",
       "      <th>AdName</th>\n",
       "      <th>AdFormat</th>\n",
       "      <th>ServedImpressions</th>\n",
       "      <th>Clicks</th>\n",
       "      <th>VideoStarted</th>\n",
       "      <th>VideoFullyPlayed</th>\n",
       "      <th>TotalMediaCost</th>\n",
       "      <th>weekstartdate</th>\n",
       "    </tr>\n",
       "  </thead>\n",
       "  <tbody>\n",
       "    <tr>\n",
       "      <th>0</th>\n",
       "      <td>False</td>\n",
       "      <td>False</td>\n",
       "      <td>False</td>\n",
       "      <td>False</td>\n",
       "      <td>False</td>\n",
       "      <td>False</td>\n",
       "      <td>False</td>\n",
       "      <td>False</td>\n",
       "      <td>False</td>\n",
       "      <td>False</td>\n",
       "      <td>False</td>\n",
       "      <td>False</td>\n",
       "      <td>False</td>\n",
       "      <td>False</td>\n",
       "      <td>False</td>\n",
       "      <td>False</td>\n",
       "      <td>False</td>\n",
       "      <td>False</td>\n",
       "      <td>False</td>\n",
       "    </tr>\n",
       "    <tr>\n",
       "      <th>1</th>\n",
       "      <td>False</td>\n",
       "      <td>False</td>\n",
       "      <td>False</td>\n",
       "      <td>False</td>\n",
       "      <td>False</td>\n",
       "      <td>False</td>\n",
       "      <td>False</td>\n",
       "      <td>False</td>\n",
       "      <td>False</td>\n",
       "      <td>False</td>\n",
       "      <td>False</td>\n",
       "      <td>False</td>\n",
       "      <td>False</td>\n",
       "      <td>False</td>\n",
       "      <td>False</td>\n",
       "      <td>False</td>\n",
       "      <td>False</td>\n",
       "      <td>False</td>\n",
       "      <td>False</td>\n",
       "    </tr>\n",
       "    <tr>\n",
       "      <th>2</th>\n",
       "      <td>False</td>\n",
       "      <td>False</td>\n",
       "      <td>False</td>\n",
       "      <td>False</td>\n",
       "      <td>False</td>\n",
       "      <td>False</td>\n",
       "      <td>False</td>\n",
       "      <td>False</td>\n",
       "      <td>False</td>\n",
       "      <td>False</td>\n",
       "      <td>False</td>\n",
       "      <td>False</td>\n",
       "      <td>False</td>\n",
       "      <td>False</td>\n",
       "      <td>False</td>\n",
       "      <td>False</td>\n",
       "      <td>False</td>\n",
       "      <td>False</td>\n",
       "      <td>False</td>\n",
       "    </tr>\n",
       "    <tr>\n",
       "      <th>3</th>\n",
       "      <td>False</td>\n",
       "      <td>False</td>\n",
       "      <td>False</td>\n",
       "      <td>False</td>\n",
       "      <td>False</td>\n",
       "      <td>False</td>\n",
       "      <td>False</td>\n",
       "      <td>False</td>\n",
       "      <td>False</td>\n",
       "      <td>False</td>\n",
       "      <td>False</td>\n",
       "      <td>False</td>\n",
       "      <td>False</td>\n",
       "      <td>False</td>\n",
       "      <td>False</td>\n",
       "      <td>False</td>\n",
       "      <td>False</td>\n",
       "      <td>False</td>\n",
       "      <td>False</td>\n",
       "    </tr>\n",
       "    <tr>\n",
       "      <th>4</th>\n",
       "      <td>False</td>\n",
       "      <td>False</td>\n",
       "      <td>False</td>\n",
       "      <td>False</td>\n",
       "      <td>False</td>\n",
       "      <td>False</td>\n",
       "      <td>False</td>\n",
       "      <td>False</td>\n",
       "      <td>False</td>\n",
       "      <td>False</td>\n",
       "      <td>False</td>\n",
       "      <td>False</td>\n",
       "      <td>False</td>\n",
       "      <td>False</td>\n",
       "      <td>False</td>\n",
       "      <td>False</td>\n",
       "      <td>False</td>\n",
       "      <td>False</td>\n",
       "      <td>False</td>\n",
       "    </tr>\n",
       "    <tr>\n",
       "      <th>...</th>\n",
       "      <td>...</td>\n",
       "      <td>...</td>\n",
       "      <td>...</td>\n",
       "      <td>...</td>\n",
       "      <td>...</td>\n",
       "      <td>...</td>\n",
       "      <td>...</td>\n",
       "      <td>...</td>\n",
       "      <td>...</td>\n",
       "      <td>...</td>\n",
       "      <td>...</td>\n",
       "      <td>...</td>\n",
       "      <td>...</td>\n",
       "      <td>...</td>\n",
       "      <td>...</td>\n",
       "      <td>...</td>\n",
       "      <td>...</td>\n",
       "      <td>...</td>\n",
       "      <td>...</td>\n",
       "    </tr>\n",
       "    <tr>\n",
       "      <th>30702</th>\n",
       "      <td>False</td>\n",
       "      <td>False</td>\n",
       "      <td>False</td>\n",
       "      <td>False</td>\n",
       "      <td>False</td>\n",
       "      <td>False</td>\n",
       "      <td>False</td>\n",
       "      <td>False</td>\n",
       "      <td>False</td>\n",
       "      <td>False</td>\n",
       "      <td>False</td>\n",
       "      <td>False</td>\n",
       "      <td>False</td>\n",
       "      <td>False</td>\n",
       "      <td>False</td>\n",
       "      <td>False</td>\n",
       "      <td>False</td>\n",
       "      <td>False</td>\n",
       "      <td>False</td>\n",
       "    </tr>\n",
       "    <tr>\n",
       "      <th>30703</th>\n",
       "      <td>False</td>\n",
       "      <td>False</td>\n",
       "      <td>False</td>\n",
       "      <td>False</td>\n",
       "      <td>False</td>\n",
       "      <td>False</td>\n",
       "      <td>False</td>\n",
       "      <td>False</td>\n",
       "      <td>False</td>\n",
       "      <td>False</td>\n",
       "      <td>False</td>\n",
       "      <td>False</td>\n",
       "      <td>False</td>\n",
       "      <td>False</td>\n",
       "      <td>False</td>\n",
       "      <td>False</td>\n",
       "      <td>False</td>\n",
       "      <td>False</td>\n",
       "      <td>False</td>\n",
       "    </tr>\n",
       "    <tr>\n",
       "      <th>30704</th>\n",
       "      <td>False</td>\n",
       "      <td>False</td>\n",
       "      <td>False</td>\n",
       "      <td>False</td>\n",
       "      <td>False</td>\n",
       "      <td>False</td>\n",
       "      <td>False</td>\n",
       "      <td>False</td>\n",
       "      <td>False</td>\n",
       "      <td>False</td>\n",
       "      <td>False</td>\n",
       "      <td>False</td>\n",
       "      <td>False</td>\n",
       "      <td>False</td>\n",
       "      <td>False</td>\n",
       "      <td>False</td>\n",
       "      <td>False</td>\n",
       "      <td>False</td>\n",
       "      <td>False</td>\n",
       "    </tr>\n",
       "    <tr>\n",
       "      <th>30705</th>\n",
       "      <td>False</td>\n",
       "      <td>False</td>\n",
       "      <td>False</td>\n",
       "      <td>False</td>\n",
       "      <td>False</td>\n",
       "      <td>False</td>\n",
       "      <td>False</td>\n",
       "      <td>False</td>\n",
       "      <td>False</td>\n",
       "      <td>False</td>\n",
       "      <td>False</td>\n",
       "      <td>False</td>\n",
       "      <td>False</td>\n",
       "      <td>False</td>\n",
       "      <td>False</td>\n",
       "      <td>False</td>\n",
       "      <td>False</td>\n",
       "      <td>False</td>\n",
       "      <td>False</td>\n",
       "    </tr>\n",
       "    <tr>\n",
       "      <th>30706</th>\n",
       "      <td>False</td>\n",
       "      <td>False</td>\n",
       "      <td>False</td>\n",
       "      <td>False</td>\n",
       "      <td>False</td>\n",
       "      <td>False</td>\n",
       "      <td>False</td>\n",
       "      <td>False</td>\n",
       "      <td>False</td>\n",
       "      <td>False</td>\n",
       "      <td>False</td>\n",
       "      <td>False</td>\n",
       "      <td>False</td>\n",
       "      <td>False</td>\n",
       "      <td>False</td>\n",
       "      <td>False</td>\n",
       "      <td>False</td>\n",
       "      <td>False</td>\n",
       "      <td>False</td>\n",
       "    </tr>\n",
       "  </tbody>\n",
       "</table>\n",
       "<p>30707 rows × 19 columns</p>\n",
       "</div>"
      ],
      "text/plain": [
       "       ÈÀDate  AdvertiserID  AdvertiserName  CampaignID  CampaignName  \\\n",
       "0        False         False           False       False         False   \n",
       "1        False         False           False       False         False   \n",
       "2        False         False           False       False         False   \n",
       "3        False         False           False       False         False   \n",
       "4        False         False           False       False         False   \n",
       "...        ...           ...             ...         ...           ...   \n",
       "30702    False         False           False       False         False   \n",
       "30703    False         False           False       False         False   \n",
       "30704    False         False           False       False         False   \n",
       "30705    False         False           False       False         False   \n",
       "30706    False         False           False       False         False   \n",
       "\n",
       "       SiteID  SiteName  PlacementID  PlacementName  PlacementType   AdID  \\\n",
       "0       False     False        False          False          False  False   \n",
       "1       False     False        False          False          False  False   \n",
       "2       False     False        False          False          False  False   \n",
       "3       False     False        False          False          False  False   \n",
       "4       False     False        False          False          False  False   \n",
       "...       ...       ...          ...            ...            ...    ...   \n",
       "30702   False     False        False          False          False  False   \n",
       "30703   False     False        False          False          False  False   \n",
       "30704   False     False        False          False          False  False   \n",
       "30705   False     False        False          False          False  False   \n",
       "30706   False     False        False          False          False  False   \n",
       "\n",
       "       AdName  AdFormat  ServedImpressions  Clicks  VideoStarted  \\\n",
       "0       False     False              False   False         False   \n",
       "1       False     False              False   False         False   \n",
       "2       False     False              False   False         False   \n",
       "3       False     False              False   False         False   \n",
       "4       False     False              False   False         False   \n",
       "...       ...       ...                ...     ...           ...   \n",
       "30702   False     False              False   False         False   \n",
       "30703   False     False              False   False         False   \n",
       "30704   False     False              False   False         False   \n",
       "30705   False     False              False   False         False   \n",
       "30706   False     False              False   False         False   \n",
       "\n",
       "       VideoFullyPlayed  TotalMediaCost  weekstartdate  \n",
       "0                 False           False          False  \n",
       "1                 False           False          False  \n",
       "2                 False           False          False  \n",
       "3                 False           False          False  \n",
       "4                 False           False          False  \n",
       "...                 ...             ...            ...  \n",
       "30702             False           False          False  \n",
       "30703             False           False          False  \n",
       "30704             False           False          False  \n",
       "30705             False           False          False  \n",
       "30706             False           False          False  \n",
       "\n",
       "[30707 rows x 19 columns]"
      ]
     },
     "execution_count": 11,
     "metadata": {},
     "output_type": "execute_result"
    }
   ],
   "source": [
    "df.isnull() # return Bool values (False means no nulls) "
   ]
  },
  {
   "cell_type": "code",
   "execution_count": 18,
   "metadata": {},
   "outputs": [
    {
     "data": {
      "text/plain": [
       "ÈÀDate              0\n",
       "AdvertiserID         0\n",
       "AdvertiserName       0\n",
       "CampaignID           0\n",
       "CampaignName         0\n",
       "SiteID               0\n",
       "SiteName             0\n",
       "PlacementID          0\n",
       "PlacementName        0\n",
       "PlacementType        0\n",
       "AdID                 0\n",
       "AdName               0\n",
       "AdFormat             0\n",
       "ServedImpressions    0\n",
       "Clicks               0\n",
       "VideoStarted         0\n",
       "VideoFullyPlayed     0\n",
       "TotalMediaCost       0\n",
       "weekstartdate        0\n",
       "dtype: int64"
      ]
     },
     "execution_count": 18,
     "metadata": {},
     "output_type": "execute_result"
    }
   ],
   "source": [
    "df.isnull().sum()   # Aggregate Boolean values returned (1-check if null;2-sum) 每一列是否有空值\n",
    "# 先判断是否有空值，然后再将结果aggregate起来"
   ]
  },
  {
   "cell_type": "code",
   "execution_count": null,
   "metadata": {},
   "outputs": [],
   "source": [
    "# Python 2.2 数据清洗（Datetime & String）"
   ]
  },
  {
   "cell_type": "code",
   "execution_count": null,
   "metadata": {},
   "outputs": [],
   "source": [
    "# Datetime 对时间的处理"
   ]
  },
  {
   "cell_type": "code",
   "execution_count": 19,
   "metadata": {},
   "outputs": [
    {
     "name": "stdout",
     "output_type": "stream",
     "text": [
      "Object `pd.to_datetime()` not found.\n"
     ]
    }
   ],
   "source": [
    "?pd.to_datetime()  #看一个Function是如何使用的"
   ]
  },
  {
   "cell_type": "code",
   "execution_count": 20,
   "metadata": {},
   "outputs": [],
   "source": [
    "df[df.columns[0]] = pd.to_datetime(df[df.columns[0]])   #df.columns是这个DF里的所有columns 对第0列column进行赋值，apply到这一列上"
   ]
  },
  {
   "cell_type": "code",
   "execution_count": 21,
   "metadata": {},
   "outputs": [
    {
     "data": {
      "text/html": [
       "<div>\n",
       "<style scoped>\n",
       "    .dataframe tbody tr th:only-of-type {\n",
       "        vertical-align: middle;\n",
       "    }\n",
       "\n",
       "    .dataframe tbody tr th {\n",
       "        vertical-align: top;\n",
       "    }\n",
       "\n",
       "    .dataframe thead th {\n",
       "        text-align: right;\n",
       "    }\n",
       "</style>\n",
       "<table border=\"1\" class=\"dataframe\">\n",
       "  <thead>\n",
       "    <tr style=\"text-align: right;\">\n",
       "      <th></th>\n",
       "      <th>ÈÀDate</th>\n",
       "      <th>AdvertiserID</th>\n",
       "      <th>AdvertiserName</th>\n",
       "      <th>CampaignID</th>\n",
       "      <th>CampaignName</th>\n",
       "      <th>SiteID</th>\n",
       "      <th>SiteName</th>\n",
       "      <th>PlacementID</th>\n",
       "      <th>PlacementName</th>\n",
       "      <th>PlacementType</th>\n",
       "      <th>AdID</th>\n",
       "      <th>AdName</th>\n",
       "      <th>AdFormat</th>\n",
       "      <th>ServedImpressions</th>\n",
       "      <th>Clicks</th>\n",
       "      <th>VideoStarted</th>\n",
       "      <th>VideoFullyPlayed</th>\n",
       "      <th>TotalMediaCost</th>\n",
       "      <th>weekstartdate</th>\n",
       "    </tr>\n",
       "  </thead>\n",
       "  <tbody>\n",
       "    <tr>\n",
       "      <th>0</th>\n",
       "      <td>2018-05-27</td>\n",
       "      <td>439393</td>\n",
       "      <td>JackÛªs Barrel</td>\n",
       "      <td>877391</td>\n",
       "      <td>2018_THL_Jacks Barrel</td>\n",
       "      <td>130157</td>\n",
       "      <td>Oath US</td>\n",
       "      <td>24604034</td>\n",
       "      <td>THL_JB_0_BRIGHTROLL_CONTX_DES_A21-49_UCB_H5_Fl...</td>\n",
       "      <td>In-Banner</td>\n",
       "      <td>52002980</td>\n",
       "      <td>2018_DB_SimplePleasures-300x250</td>\n",
       "      <td>Standard Banner</td>\n",
       "      <td>312</td>\n",
       "      <td>1</td>\n",
       "      <td>0</td>\n",
       "      <td>0</td>\n",
       "      <td>0.0</td>\n",
       "      <td>5/21/18</td>\n",
       "    </tr>\n",
       "    <tr>\n",
       "      <th>1</th>\n",
       "      <td>2018-05-27</td>\n",
       "      <td>439393</td>\n",
       "      <td>JackÛªs Barrel</td>\n",
       "      <td>877391</td>\n",
       "      <td>2018_THL_Jacks Barrel</td>\n",
       "      <td>130157</td>\n",
       "      <td>Oath US</td>\n",
       "      <td>24604036</td>\n",
       "      <td>THL_JB_0_BRIGHTROLL_CONTX_DES_A21-49_UCB_H5_Fl...</td>\n",
       "      <td>In-Banner</td>\n",
       "      <td>52004247</td>\n",
       "      <td>2018_DB_SimplePleasures-728x90</td>\n",
       "      <td>Standard Banner</td>\n",
       "      <td>73</td>\n",
       "      <td>0</td>\n",
       "      <td>0</td>\n",
       "      <td>0</td>\n",
       "      <td>0.0</td>\n",
       "      <td>5/21/18</td>\n",
       "    </tr>\n",
       "    <tr>\n",
       "      <th>2</th>\n",
       "      <td>2018-05-27</td>\n",
       "      <td>439393</td>\n",
       "      <td>JackÛªs Barrel</td>\n",
       "      <td>877391</td>\n",
       "      <td>2018_THL_Jacks Barrel</td>\n",
       "      <td>130157</td>\n",
       "      <td>Oath US</td>\n",
       "      <td>24604037</td>\n",
       "      <td>THL_JB_0_BRIGHTROLL_CONTX_DES_A21-49_UCB_H5_Fl...</td>\n",
       "      <td>In-Banner</td>\n",
       "      <td>52003023</td>\n",
       "      <td>2018_DB_SimplePleasures-300x600</td>\n",
       "      <td>Standard Banner</td>\n",
       "      <td>95</td>\n",
       "      <td>0</td>\n",
       "      <td>0</td>\n",
       "      <td>0</td>\n",
       "      <td>0.0</td>\n",
       "      <td>5/21/18</td>\n",
       "    </tr>\n",
       "  </tbody>\n",
       "</table>\n",
       "</div>"
      ],
      "text/plain": [
       "     ÈÀDate  AdvertiserID   AdvertiserName  CampaignID  \\\n",
       "0 2018-05-27        439393  JackÛªs Barrel      877391   \n",
       "1 2018-05-27        439393  JackÛªs Barrel      877391   \n",
       "2 2018-05-27        439393  JackÛªs Barrel      877391   \n",
       "\n",
       "            CampaignName  SiteID SiteName  PlacementID  \\\n",
       "0  2018_THL_Jacks Barrel  130157  Oath US     24604034   \n",
       "1  2018_THL_Jacks Barrel  130157  Oath US     24604036   \n",
       "2  2018_THL_Jacks Barrel  130157  Oath US     24604037   \n",
       "\n",
       "                                       PlacementName PlacementType      AdID  \\\n",
       "0  THL_JB_0_BRIGHTROLL_CONTX_DES_A21-49_UCB_H5_Fl...     In-Banner  52002980   \n",
       "1  THL_JB_0_BRIGHTROLL_CONTX_DES_A21-49_UCB_H5_Fl...     In-Banner  52004247   \n",
       "2  THL_JB_0_BRIGHTROLL_CONTX_DES_A21-49_UCB_H5_Fl...     In-Banner  52003023   \n",
       "\n",
       "                            AdName         AdFormat  ServedImpressions  \\\n",
       "0  2018_DB_SimplePleasures-300x250  Standard Banner                312   \n",
       "1   2018_DB_SimplePleasures-728x90  Standard Banner                 73   \n",
       "2  2018_DB_SimplePleasures-300x600  Standard Banner                 95   \n",
       "\n",
       "   Clicks  VideoStarted  VideoFullyPlayed  TotalMediaCost weekstartdate  \n",
       "0       1             0                 0             0.0       5/21/18  \n",
       "1       0             0                 0             0.0       5/21/18  \n",
       "2       0             0                 0             0.0       5/21/18  "
      ]
     },
     "execution_count": 21,
     "metadata": {},
     "output_type": "execute_result"
    }
   ],
   "source": [
    "df.head(3)"
   ]
  },
  {
   "cell_type": "code",
   "execution_count": 22,
   "metadata": {},
   "outputs": [
    {
     "data": {
      "text/plain": [
       "0       2018-05-27\n",
       "1       2018-05-27\n",
       "2       2018-05-27\n",
       "3       2018-05-27\n",
       "4       2018-05-27\n",
       "           ...    \n",
       "30702   2018-04-01\n",
       "30703   2018-04-01\n",
       "30704   2018-04-01\n",
       "30705   2018-04-01\n",
       "30706   2018-04-01\n",
       "Name: ÈÀDate, Length: 30707, dtype: datetime64[ns]"
      ]
     },
     "execution_count": 22,
     "metadata": {},
     "output_type": "execute_result"
    }
   ],
   "source": [
    "df[df.columns[0]]"
   ]
  },
  {
   "cell_type": "code",
   "execution_count": 23,
   "metadata": {},
   "outputs": [
    {
     "data": {
      "text/plain": [
       "2018-04-12    1012\n",
       "2018-05-25     691\n",
       "2018-05-24     684\n",
       "2018-05-26     678\n",
       "2018-05-27     672\n",
       "2018-05-22     653\n",
       "2018-05-23     649\n",
       "2018-05-17     649\n",
       "2018-05-21     641\n",
       "2018-04-20     637\n",
       "2018-05-19     635\n",
       "2018-05-18     631\n",
       "2018-05-16     630\n",
       "2018-05-14     621\n",
       "2018-05-20     618\n",
       "2018-05-15     614\n",
       "2018-05-11     607\n",
       "2018-05-13     592\n",
       "2018-05-12     590\n",
       "2018-05-10     583\n",
       "2018-05-09     558\n",
       "2018-04-24     537\n",
       "2018-05-02     537\n",
       "2018-05-07     526\n",
       "2018-04-21     525\n",
       "2018-05-04     525\n",
       "2018-04-23     517\n",
       "2018-05-03     515\n",
       "2018-04-11     515\n",
       "2018-04-22     514\n",
       "2018-04-13     514\n",
       "2018-05-08     505\n",
       "2018-04-25     504\n",
       "2018-04-15     499\n",
       "2018-05-05     498\n",
       "2018-04-14     497\n",
       "2018-04-16     495\n",
       "2018-04-09     493\n",
       "2018-04-10     493\n",
       "2018-05-06     493\n",
       "2018-04-06     477\n",
       "2018-04-26     475\n",
       "2018-04-28     472\n",
       "2018-04-27     471\n",
       "2018-04-30     471\n",
       "2018-04-19     468\n",
       "2018-04-29     466\n",
       "2018-04-17     464\n",
       "2018-04-05     462\n",
       "2018-04-18     460\n",
       "2018-04-07     452\n",
       "2018-04-08     443\n",
       "2018-05-01     386\n",
       "2018-04-02     380\n",
       "2018-04-04     377\n",
       "2018-04-03     329\n",
       "2018-04-01     307\n",
       "Name: ÈÀDate, dtype: int64"
      ]
     },
     "execution_count": 23,
     "metadata": {},
     "output_type": "execute_result"
    }
   ],
   "source": [
    "df[df.columns[0]].value_counts() # check how many rows for each Date"
   ]
  },
  {
   "cell_type": "code",
   "execution_count": null,
   "metadata": {},
   "outputs": [],
   "source": [
    "# String"
   ]
  },
  {
   "cell_type": "code",
   "execution_count": 24,
   "metadata": {},
   "outputs": [],
   "source": [
    "a = 'Henry is handsome' # Example (Define Varialbe a)"
   ]
  },
  {
   "cell_type": "code",
   "execution_count": 25,
   "metadata": {},
   "outputs": [
    {
     "data": {
      "text/plain": [
       "'Henry is fat'"
      ]
     },
     "execution_count": 25,
     "metadata": {},
     "output_type": "execute_result"
    }
   ],
   "source": [
    "a.replace('handsome', 'fat')"
   ]
  },
  {
   "cell_type": "code",
   "execution_count": 27,
   "metadata": {},
   "outputs": [
    {
     "data": {
      "text/plain": [
       "'Henry is sick'"
      ]
     },
     "execution_count": 27,
     "metadata": {},
     "output_type": "execute_result"
    }
   ],
   "source": [
    "a.replace('handsome', 'fat').replace('fat', 'sick')"
   ]
  },
  {
   "cell_type": "code",
   "execution_count": null,
   "metadata": {},
   "outputs": [],
   "source": [
    "# Use Replace Function in our Marketing Dataset"
   ]
  },
  {
   "cell_type": "code",
   "execution_count": 28,
   "metadata": {},
   "outputs": [],
   "source": [
    "b = 'JackÛªs Barrel'"
   ]
  },
  {
   "cell_type": "code",
   "execution_count": 29,
   "metadata": {},
   "outputs": [
    {
     "data": {
      "text/plain": [
       "\"Jack's Barrel\""
      ]
     },
     "execution_count": 29,
     "metadata": {},
     "output_type": "execute_result"
    }
   ],
   "source": [
    "b.replace('JackÛªs', \"Jack's\")                    # 对一个值进行替换"
   ]
  },
  {
   "cell_type": "code",
   "execution_count": 30,
   "metadata": {},
   "outputs": [
    {
     "data": {
      "text/plain": [
       "0        JackÛªs Barrel\n",
       "1        JackÛªs Barrel\n",
       "2        JackÛªs Barrel\n",
       "3        JackÛªs Barrel\n",
       "4        JackÛªs Barrel\n",
       "              ...       \n",
       "30702       Chelsea Blue\n",
       "30703       Chelsea Blue\n",
       "30704       Chelsea Blue\n",
       "30705       Chelsea Blue\n",
       "30706       Chelsea Blue\n",
       "Name: AdvertiserName, Length: 30707, dtype: object"
      ]
     },
     "execution_count": 30,
     "metadata": {},
     "output_type": "execute_result"
    }
   ],
   "source": [
    "df['AdvertiserName'].replace('JackÛªs', \"Jack's\")  # 无法对一列值进行替换;Jack's里面已经有单引号，外面用双引号"
   ]
  },
  {
   "cell_type": "code",
   "execution_count": 31,
   "metadata": {},
   "outputs": [
    {
     "data": {
      "text/plain": [
       "0        Jack's Barrel\n",
       "1        Jack's Barrel\n",
       "2        Jack's Barrel\n",
       "3        Jack's Barrel\n",
       "4        Jack's Barrel\n",
       "             ...      \n",
       "30702     Chelsea Blue\n",
       "30703     Chelsea Blue\n",
       "30704     Chelsea Blue\n",
       "30705     Chelsea Blue\n",
       "30706     Chelsea Blue\n",
       "Name: AdvertiserName, Length: 30707, dtype: object"
      ]
     },
     "execution_count": 31,
     "metadata": {},
     "output_type": "execute_result"
    }
   ],
   "source": [
    " df['AdvertiserName'].str.replace('JackÛªs', \"Jack's\")  # Treat a list of AdvertiserName as a String"
   ]
  },
  {
   "cell_type": "code",
   "execution_count": null,
   "metadata": {},
   "outputs": [],
   "source": [
    "# Python 2.3 数据清洗（Count Function）\n",
    "# 在Data QA中经常用的一个Function"
   ]
  },
  {
   "cell_type": "code",
   "execution_count": 4,
   "metadata": {},
   "outputs": [
    {
     "data": {
      "text/plain": [
       "0         2018_THL_Jacks Barrel\n",
       "1         2018_THL_Jacks Barrel\n",
       "2         2018_THL_Jacks Barrel\n",
       "3         2018_THL_Jacks Barrel\n",
       "4         2018_THL_Jacks Barrel\n",
       "                  ...          \n",
       "30702    2018_THL_Chelsea_BALAD\n",
       "30703    2018_THL_Chelsea_BALAD\n",
       "30704    2018_THL_Chelsea_BALAD\n",
       "30705    2018_THL_Chelsea_BALAD\n",
       "30706    2018_THL_Chelsea_BALAD\n",
       "Name: CampaignName, Length: 30707, dtype: object"
      ]
     },
     "execution_count": 4,
     "metadata": {},
     "output_type": "execute_result"
    }
   ],
   "source": [
    "df['CampaignName']"
   ]
  },
  {
   "cell_type": "code",
   "execution_count": 5,
   "metadata": {},
   "outputs": [
    {
     "data": {
      "text/plain": [
       "0        2\n",
       "1        2\n",
       "2        2\n",
       "3        2\n",
       "4        2\n",
       "        ..\n",
       "30702    3\n",
       "30703    3\n",
       "30704    3\n",
       "30705    3\n",
       "30706    3\n",
       "Name: CampaignName, Length: 30707, dtype: int64"
      ]
     },
     "execution_count": 5,
     "metadata": {},
     "output_type": "execute_result"
    }
   ],
   "source": [
    "df['CampaignName'].str.count('_')\n",
    "#检查下划线的位数 - 看每一个campaign是否是严格明名的 (数出下划线)"
   ]
  },
  {
   "cell_type": "code",
   "execution_count": 6,
   "metadata": {},
   "outputs": [],
   "source": [
    "df['count_under_score'] = df['CampaignName'].str.count('_')\n",
    "#将结果赋值在一个新的数列DataFrame里面，更容易读取 (count完以后将结果赋值到一个新的数列里面)"
   ]
  },
  {
   "cell_type": "code",
   "execution_count": 7,
   "metadata": {},
   "outputs": [
    {
     "data": {
      "text/plain": [
       "0        2\n",
       "1        2\n",
       "2        2\n",
       "3        2\n",
       "4        2\n",
       "        ..\n",
       "30702    3\n",
       "30703    3\n",
       "30704    3\n",
       "30705    3\n",
       "30706    3\n",
       "Name: count_under_score, Length: 30707, dtype: int64"
      ]
     },
     "execution_count": 7,
     "metadata": {},
     "output_type": "execute_result"
    }
   ],
   "source": [
    "df['count_under_score']"
   ]
  },
  {
   "cell_type": "code",
   "execution_count": 8,
   "metadata": {},
   "outputs": [
    {
     "data": {
      "text/plain": [
       "array([2, 3, 4], dtype=int64)"
      ]
     },
     "execution_count": 8,
     "metadata": {},
     "output_type": "execute_result"
    }
   ],
   "source": [
    "df['count_under_score'].unique()  # 说明存在2或3或4个underscore的情况 - campaign name的命名并不统一"
   ]
  },
  {
   "cell_type": "code",
   "execution_count": 9,
   "metadata": {},
   "outputs": [],
   "source": [
    "# Next: 查看2/3/4个underscore的Campaign Name分别有哪些：\n",
    "# 创建新的variable:\n",
    "count_2 = df[df['count_under_score'] == 2]['CampaignName'] \n",
    "#当underscore count = 2 的时候 把campaign name给出；并将这样的一组campaign name赋值于variable count_2"
   ]
  },
  {
   "cell_type": "code",
   "execution_count": 10,
   "metadata": {},
   "outputs": [
    {
     "data": {
      "text/plain": [
       "0        2018_THL_Jacks Barrel\n",
       "1        2018_THL_Jacks Barrel\n",
       "2        2018_THL_Jacks Barrel\n",
       "3        2018_THL_Jacks Barrel\n",
       "4        2018_THL_Jacks Barrel\n",
       "                 ...          \n",
       "29686    2018_THL_Jacks Barrel\n",
       "29687    2018_THL_Jacks Barrel\n",
       "29688    2018_THL_Jacks Barrel\n",
       "29689    2018_THL_Jacks Barrel\n",
       "29690    2018_THL_Jacks Barrel\n",
       "Name: CampaignName, Length: 9883, dtype: object"
      ]
     },
     "execution_count": 10,
     "metadata": {},
     "output_type": "execute_result"
    }
   ],
   "source": [
    "count_2"
   ]
  },
  {
   "cell_type": "code",
   "execution_count": 11,
   "metadata": {},
   "outputs": [
    {
     "data": {
      "text/plain": [
       "2018_THL_Jacks Barrel    9883\n",
       "Name: CampaignName, dtype: int64"
      ]
     },
     "execution_count": 11,
     "metadata": {},
     "output_type": "execute_result"
    }
   ],
   "source": [
    "count_2.value_counts()  # 从以下结果可以看出，有2个underscore的只有这一项，这一项有9883行"
   ]
  },
  {
   "cell_type": "code",
   "execution_count": 12,
   "metadata": {},
   "outputs": [],
   "source": [
    "count_3 = df[df['count_under_score'] == 3]['CampaignName'] \n",
    "count_4 = df[df['count_under_score'] == 4]['CampaignName']"
   ]
  },
  {
   "cell_type": "code",
   "execution_count": 13,
   "metadata": {},
   "outputs": [
    {
     "data": {
      "text/plain": [
       "2018_THL_Brand R_HAR           7798\n",
       "2018_ABH_AnneMac_Jan-July      4443\n",
       "2018_THL_Chelsea_T2-T3         2754\n",
       "2018_THL_Brand R_T2            2255\n",
       "2018_THL_Chelsea_BALAD         1810\n",
       "2018_THL_Bubbles_Q2             928\n",
       "2018_THL_Chelsea_VIDEO          768\n",
       "2018_THL_Chelsea_Super Bowl      41\n",
       "2018_THL_Chelsea_PHILLYMAG        3\n",
       "Name: CampaignName, dtype: int64"
      ]
     },
     "execution_count": 13,
     "metadata": {},
     "output_type": "execute_result"
    }
   ],
   "source": [
    "count_3.value_counts()   # 以下campaign name中包含了3个下划线，每个campaign name出现了多少次"
   ]
  },
  {
   "cell_type": "code",
   "execution_count": 14,
   "metadata": {},
   "outputs": [
    {
     "data": {
      "text/plain": [
       "2018_THL_Chelsea_Hulu_T2    24\n",
       "Name: CampaignName, dtype: int64"
      ]
     },
     "execution_count": 14,
     "metadata": {},
     "output_type": "execute_result"
    }
   ],
   "source": [
    "count_4.value_counts()"
   ]
  }
 ],
 "metadata": {
  "kernelspec": {
   "display_name": "Python 3",
   "language": "python",
   "name": "python3"
  },
  "language_info": {
   "codemirror_mode": {
    "name": "ipython",
    "version": 3
   },
   "file_extension": ".py",
   "mimetype": "text/x-python",
   "name": "python",
   "nbconvert_exporter": "python",
   "pygments_lexer": "ipython3",
   "version": "3.8.5"
  }
 },
 "nbformat": 4,
 "nbformat_minor": 4
}
